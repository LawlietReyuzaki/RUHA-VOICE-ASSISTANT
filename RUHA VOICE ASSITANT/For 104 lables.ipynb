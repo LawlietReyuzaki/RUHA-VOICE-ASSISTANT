{
 "cells": [
  {
   "cell_type": "code",
   "execution_count": 27,
   "metadata": {},
   "outputs": [],
   "source": [
    "import pandas as pd \n",
    "from sklearn.model_selection import train_test_split"
   ]
  },
  {
   "cell_type": "code",
   "execution_count": 28,
   "metadata": {},
   "outputs": [],
   "source": [
    "df=pd.read_csv('sound MFCC.csv')"
   ]
  },
  {
   "cell_type": "code",
   "execution_count": 29,
   "metadata": {},
   "outputs": [
    {
     "data": {
      "text/html": [
       "<div>\n",
       "<style scoped>\n",
       "    .dataframe tbody tr th:only-of-type {\n",
       "        vertical-align: middle;\n",
       "    }\n",
       "\n",
       "    .dataframe tbody tr th {\n",
       "        vertical-align: top;\n",
       "    }\n",
       "\n",
       "    .dataframe thead th {\n",
       "        text-align: right;\n",
       "    }\n",
       "</style>\n",
       "<table border=\"1\" class=\"dataframe\">\n",
       "  <thead>\n",
       "    <tr style=\"text-align: right;\">\n",
       "      <th></th>\n",
       "      <th>Unnamed: 0</th>\n",
       "      <th>Lable1</th>\n",
       "      <th>Lable2</th>\n",
       "      <th>MFCC</th>\n",
       "      <th>chromogram</th>\n",
       "      <th>melspectrogram</th>\n",
       "      <th>tonnetz</th>\n",
       "    </tr>\n",
       "  </thead>\n",
       "  <tbody>\n",
       "    <tr>\n",
       "      <th>0</th>\n",
       "      <td>0</td>\n",
       "      <td>Kitchen ka Bulb off karo</td>\n",
       "      <td>Bulb</td>\n",
       "      <td>-13.566445</td>\n",
       "      <td>0.362861</td>\n",
       "      <td>0.181155</td>\n",
       "      <td>[0.         0.         0.         ... 0.000841...</td>\n",
       "    </tr>\n",
       "    <tr>\n",
       "      <th>1</th>\n",
       "      <td>1</td>\n",
       "      <td>Garage ki Light on karo</td>\n",
       "      <td>Bulb</td>\n",
       "      <td>-13.563948</td>\n",
       "      <td>0.374355</td>\n",
       "      <td>1.786949</td>\n",
       "      <td>[ 0.          0.          0.         ... -0.00...</td>\n",
       "    </tr>\n",
       "    <tr>\n",
       "      <th>2</th>\n",
       "      <td>2</td>\n",
       "      <td>Washroom ka Bulb off karo</td>\n",
       "      <td>Bulb</td>\n",
       "      <td>-17.413774</td>\n",
       "      <td>0.384585</td>\n",
       "      <td>0.107298</td>\n",
       "      <td>[0.0000000e+00 0.0000000e+00 0.0000000e+00 ......</td>\n",
       "    </tr>\n",
       "    <tr>\n",
       "      <th>3</th>\n",
       "      <td>3</td>\n",
       "      <td>Garage ki Light jalao</td>\n",
       "      <td>Bulb</td>\n",
       "      <td>-26.022346</td>\n",
       "      <td>0.298221</td>\n",
       "      <td>0.448569</td>\n",
       "      <td>[ 0.0000000e+00  0.0000000e+00  0.0000000e+00 ...</td>\n",
       "    </tr>\n",
       "    <tr>\n",
       "      <th>4</th>\n",
       "      <td>4</td>\n",
       "      <td>Garage ki Light band karo</td>\n",
       "      <td>Bulb</td>\n",
       "      <td>-16.718997</td>\n",
       "      <td>0.323172</td>\n",
       "      <td>0.904120</td>\n",
       "      <td>[0.0000000e+00 0.0000000e+00 0.0000000e+00 ......</td>\n",
       "    </tr>\n",
       "    <tr>\n",
       "      <th>...</th>\n",
       "      <td>...</td>\n",
       "      <td>...</td>\n",
       "      <td>...</td>\n",
       "      <td>...</td>\n",
       "      <td>...</td>\n",
       "      <td>...</td>\n",
       "      <td>...</td>\n",
       "    </tr>\n",
       "    <tr>\n",
       "      <th>6465</th>\n",
       "      <td>6465</td>\n",
       "      <td>Agla Gaana lagao</td>\n",
       "      <td>Gaana</td>\n",
       "      <td>-13.951214</td>\n",
       "      <td>0.519020</td>\n",
       "      <td>0.603590</td>\n",
       "      <td>[ 9.81436315e-05  4.18178570e-05 -1.25880797e-...</td>\n",
       "    </tr>\n",
       "    <tr>\n",
       "      <th>6466</th>\n",
       "      <td>6466</td>\n",
       "      <td>Previous Gaana lagao</td>\n",
       "      <td>Gaana</td>\n",
       "      <td>-15.452896</td>\n",
       "      <td>0.425502</td>\n",
       "      <td>1.083514</td>\n",
       "      <td>[0.         0.         0.         ... 0.002144...</td>\n",
       "    </tr>\n",
       "    <tr>\n",
       "      <th>6467</th>\n",
       "      <td>6467</td>\n",
       "      <td>Next Gaana lagao</td>\n",
       "      <td>Gaana</td>\n",
       "      <td>-16.023721</td>\n",
       "      <td>0.379936</td>\n",
       "      <td>0.581761</td>\n",
       "      <td>[0.         0.         0.         ... 0.002867...</td>\n",
       "    </tr>\n",
       "    <tr>\n",
       "      <th>6468</th>\n",
       "      <td>6468</td>\n",
       "      <td>Gaaney lagao</td>\n",
       "      <td>Gaana</td>\n",
       "      <td>-10.796423</td>\n",
       "      <td>0.521583</td>\n",
       "      <td>5.853522</td>\n",
       "      <td>[6.092863e-08 6.083087e-08 6.068511e-08 ... 0....</td>\n",
       "    </tr>\n",
       "    <tr>\n",
       "      <th>6469</th>\n",
       "      <td>6469</td>\n",
       "      <td>Gaaney lagao</td>\n",
       "      <td>Gaana</td>\n",
       "      <td>-15.252177</td>\n",
       "      <td>0.435144</td>\n",
       "      <td>2.623096</td>\n",
       "      <td>[ 0.0000000e+00 -1.2627019e-21 -2.4458553e-22 ...</td>\n",
       "    </tr>\n",
       "  </tbody>\n",
       "</table>\n",
       "<p>6470 rows × 7 columns</p>\n",
       "</div>"
      ],
      "text/plain": [
       "      Unnamed: 0                     Lable1 Lable2       MFCC  chromogram  \\\n",
       "0              0   Kitchen ka Bulb off karo   Bulb -13.566445    0.362861   \n",
       "1              1    Garage ki Light on karo   Bulb -13.563948    0.374355   \n",
       "2              2  Washroom ka Bulb off karo   Bulb -17.413774    0.384585   \n",
       "3              3      Garage ki Light jalao   Bulb -26.022346    0.298221   \n",
       "4              4  Garage ki Light band karo   Bulb -16.718997    0.323172   \n",
       "...          ...                        ...    ...        ...         ...   \n",
       "6465        6465           Agla Gaana lagao  Gaana -13.951214    0.519020   \n",
       "6466        6466       Previous Gaana lagao  Gaana -15.452896    0.425502   \n",
       "6467        6467           Next Gaana lagao  Gaana -16.023721    0.379936   \n",
       "6468        6468               Gaaney lagao  Gaana -10.796423    0.521583   \n",
       "6469        6469               Gaaney lagao  Gaana -15.252177    0.435144   \n",
       "\n",
       "      melspectrogram                                            tonnetz  \n",
       "0           0.181155  [0.         0.         0.         ... 0.000841...  \n",
       "1           1.786949  [ 0.          0.          0.         ... -0.00...  \n",
       "2           0.107298  [0.0000000e+00 0.0000000e+00 0.0000000e+00 ......  \n",
       "3           0.448569  [ 0.0000000e+00  0.0000000e+00  0.0000000e+00 ...  \n",
       "4           0.904120  [0.0000000e+00 0.0000000e+00 0.0000000e+00 ......  \n",
       "...              ...                                                ...  \n",
       "6465        0.603590  [ 9.81436315e-05  4.18178570e-05 -1.25880797e-...  \n",
       "6466        1.083514  [0.         0.         0.         ... 0.002144...  \n",
       "6467        0.581761  [0.         0.         0.         ... 0.002867...  \n",
       "6468        5.853522  [6.092863e-08 6.083087e-08 6.068511e-08 ... 0....  \n",
       "6469        2.623096  [ 0.0000000e+00 -1.2627019e-21 -2.4458553e-22 ...  \n",
       "\n",
       "[6470 rows x 7 columns]"
      ]
     },
     "execution_count": 29,
     "metadata": {},
     "output_type": "execute_result"
    }
   ],
   "source": [
    "df"
   ]
  },
  {
   "cell_type": "code",
   "execution_count": null,
   "metadata": {},
   "outputs": [],
   "source": []
  },
  {
   "cell_type": "code",
   "execution_count": 30,
   "metadata": {},
   "outputs": [
    {
     "name": "stdout",
     "output_type": "stream",
     "text": [
      "           MFCC Lable2  chromogram  melspectrogram  \\\n",
      "0    -13.566445   Bulb    0.362861        0.181155   \n",
      "1    -13.563948   Bulb    0.374355        1.786949   \n",
      "2    -17.413774   Bulb    0.384585        0.107298   \n",
      "3    -26.022346   Bulb    0.298221        0.448569   \n",
      "4    -16.718997   Bulb    0.323172        0.904120   \n",
      "...         ...    ...         ...             ...   \n",
      "6465 -13.951214  Gaana    0.519020        0.603590   \n",
      "6466 -15.452896  Gaana    0.425502        1.083514   \n",
      "6467 -16.023721  Gaana    0.379936        0.581761   \n",
      "6468 -10.796423  Gaana    0.521583        5.853522   \n",
      "6469 -15.252177  Gaana    0.435144        2.623096   \n",
      "\n",
      "                                                tonnetz  \n",
      "0     [0.         0.         0.         ... 0.000841...  \n",
      "1     [ 0.          0.          0.         ... -0.00...  \n",
      "2     [0.0000000e+00 0.0000000e+00 0.0000000e+00 ......  \n",
      "3     [ 0.0000000e+00  0.0000000e+00  0.0000000e+00 ...  \n",
      "4     [0.0000000e+00 0.0000000e+00 0.0000000e+00 ......  \n",
      "...                                                 ...  \n",
      "6465  [ 9.81436315e-05  4.18178570e-05 -1.25880797e-...  \n",
      "6466  [0.         0.         0.         ... 0.002144...  \n",
      "6467  [0.         0.         0.         ... 0.002867...  \n",
      "6468  [6.092863e-08 6.083087e-08 6.068511e-08 ... 0....  \n",
      "6469  [ 0.0000000e+00 -1.2627019e-21 -2.4458553e-22 ...  \n",
      "\n",
      "[6470 rows x 5 columns]\n",
      "Shape of X =  (6470, 5)\n",
      "Shape of y =  (6470, 1)\n"
     ]
    }
   ],
   "source": [
    "# df=df.drop(\"Id\",axis=1)\n",
    "#X = df.drop(\"Unnamed\", axis = 1)\n",
    "# X = df.drop(\"Lable1\", axis = 1)\n",
    "# X = X.drop(\"Lable2\", axis = 1)\n",
    "X = df[[\"MFCC\", \"Lable2\", \"chromogram\", \"melspectrogram\", \"tonnetz\"]]\n",
    "y = df[[\"Lable1\"]]\n",
    "print(X)\n",
    "print('Shape of X = ', X.shape)\n",
    "print('Shape of y = ', y.shape)"
   ]
  },
  {
   "cell_type": "code",
   "execution_count": null,
   "metadata": {},
   "outputs": [],
   "source": []
  },
  {
   "cell_type": "code",
   "execution_count": 31,
   "metadata": {},
   "outputs": [
    {
     "name": "stdout",
     "output_type": "stream",
     "text": [
      "           MFCC  Lable2  chromogram  melspectrogram\n",
      "0    -13.566445       0    0.362861        0.181155\n",
      "1    -13.563948       0    0.374355        1.786949\n",
      "2    -17.413774       0    0.384585        0.107298\n",
      "3    -26.022346       0    0.298221        0.448569\n",
      "4    -16.718997       0    0.323172        0.904120\n",
      "...         ...     ...         ...             ...\n",
      "6465 -13.951214       2    0.519020        0.603590\n",
      "6466 -15.452896       2    0.425502        1.083514\n",
      "6467 -16.023721       2    0.379936        0.581761\n",
      "6468 -10.796423       2    0.521583        5.853522\n",
      "6469 -15.252177       2    0.435144        2.623096\n",
      "\n",
      "[6470 rows x 4 columns]\n"
     ]
    }
   ],
   "source": [
    "d={'Bulb':0,'A.C':1, 'Gaana':2, 'T.V':3}\n",
    "df[\"Lable2\"]=df[\"Lable2\"].map(d)\n",
    "X = df[[\"MFCC\", \"Lable2\", \"chromogram\", \"melspectrogram\"]]\n",
    "print (X)"
   ]
  },
  {
   "cell_type": "code",
   "execution_count": 32,
   "metadata": {},
   "outputs": [
    {
     "name": "stdout",
     "output_type": "stream",
     "text": [
      "Shape of X_train =  (5176, 4)\n",
      "Shape of y_train =  (5176, 1)\n",
      "Shape of X_test =  (1294, 4)\n",
      "Shape of y_test =  (1294, 1)\n"
     ]
    }
   ],
   "source": [
    "X_train, X_test, y_train, y_test =train_test_split(X, y, test_size=0.2, random_state=51)\n",
    "print('Shape of X_train = ', X_train.shape)\n",
    "print('Shape of y_train = ', y_train.shape)\n",
    "print('Shape of X_test = ', X_test.shape)\n",
    "print('Shape of y_test = ', y_test.shape)"
   ]
  },
  {
   "cell_type": "code",
   "execution_count": 33,
   "metadata": {},
   "outputs": [],
   "source": [
    "import numpy as np\n",
    "from sklearn.preprocessing import StandardScaler\n",
    "from sklearn.preprocessing import MinMaxScaler"
   ]
  },
  {
   "cell_type": "code",
   "execution_count": 34,
   "metadata": {},
   "outputs": [],
   "source": [
    "sc = StandardScaler()\n",
    "sc.fit(X_train)\n",
    "X_train_sc = sc.transform(X_train)\n",
    "X_test_sc = sc.transform(X_test)"
   ]
  },
  {
   "cell_type": "code",
   "execution_count": 35,
   "metadata": {},
   "outputs": [
    {
     "data": {
      "text/html": [
       "<div>\n",
       "<style scoped>\n",
       "    .dataframe tbody tr th:only-of-type {\n",
       "        vertical-align: middle;\n",
       "    }\n",
       "\n",
       "    .dataframe tbody tr th {\n",
       "        vertical-align: top;\n",
       "    }\n",
       "\n",
       "    .dataframe thead th {\n",
       "        text-align: right;\n",
       "    }\n",
       "</style>\n",
       "<table border=\"1\" class=\"dataframe\">\n",
       "  <thead>\n",
       "    <tr style=\"text-align: right;\">\n",
       "      <th></th>\n",
       "      <th>MFCC</th>\n",
       "      <th>Lable2</th>\n",
       "      <th>chromogram</th>\n",
       "      <th>melspectrogram</th>\n",
       "    </tr>\n",
       "  </thead>\n",
       "  <tbody>\n",
       "    <tr>\n",
       "      <th>4025</th>\n",
       "      <td>-11.946082</td>\n",
       "      <td>3</td>\n",
       "      <td>0.484721</td>\n",
       "      <td>0.734576</td>\n",
       "    </tr>\n",
       "    <tr>\n",
       "      <th>5526</th>\n",
       "      <td>-19.341837</td>\n",
       "      <td>1</td>\n",
       "      <td>0.359131</td>\n",
       "      <td>0.579733</td>\n",
       "    </tr>\n",
       "    <tr>\n",
       "      <th>5360</th>\n",
       "      <td>-28.031194</td>\n",
       "      <td>3</td>\n",
       "      <td>0.486351</td>\n",
       "      <td>0.001961</td>\n",
       "    </tr>\n",
       "    <tr>\n",
       "      <th>3477</th>\n",
       "      <td>-12.891295</td>\n",
       "      <td>0</td>\n",
       "      <td>0.545741</td>\n",
       "      <td>0.733368</td>\n",
       "    </tr>\n",
       "    <tr>\n",
       "      <th>5241</th>\n",
       "      <td>-21.736798</td>\n",
       "      <td>3</td>\n",
       "      <td>0.323074</td>\n",
       "      <td>0.274186</td>\n",
       "    </tr>\n",
       "  </tbody>\n",
       "</table>\n",
       "</div>"
      ],
      "text/plain": [
       "           MFCC  Lable2  chromogram  melspectrogram\n",
       "4025 -11.946082       3    0.484721        0.734576\n",
       "5526 -19.341837       1    0.359131        0.579733\n",
       "5360 -28.031194       3    0.486351        0.001961\n",
       "3477 -12.891295       0    0.545741        0.733368\n",
       "5241 -21.736798       3    0.323074        0.274186"
      ]
     },
     "execution_count": 35,
     "metadata": {},
     "output_type": "execute_result"
    }
   ],
   "source": [
    "# Feature Test Data, non-standardized\n",
    "X_test[0:5]"
   ]
  },
  {
   "cell_type": "code",
   "execution_count": 36,
   "metadata": {},
   "outputs": [
    {
     "data": {
      "text/plain": [
       "array([[ 0.57534171,  1.43699407,  0.58120593, -0.38892391],\n",
       "       [-0.73191044, -0.06682342, -1.06087192, -0.46968915],\n",
       "       [-2.26781563,  1.43699407,  0.60252065, -0.77105218],\n",
       "       [ 0.40826852, -0.81873217,  1.37903171, -0.38955379],\n",
       "       [-1.1552367 ,  1.43699407, -1.53231328, -0.62906088]])"
      ]
     },
     "execution_count": 36,
     "metadata": {},
     "output_type": "execute_result"
    }
   ],
   "source": [
    "# Feature Test Data, standardized.\n",
    "X_test_sc[0:5]"
   ]
  },
  {
   "cell_type": "code",
   "execution_count": 39,
   "metadata": {},
   "outputs": [],
   "source": [
    "X_train_sc =  pd.DataFrame(X_train_sc, columns = [\"Lable2\",'MFCC','chromogram', \"melspectrogram\"])\n",
    "X_test_sc =  pd.DataFrame(X_test_sc, columns = [\"Lable2\",'MFCC','chromogram', \"melspectrogram\"])"
   ]
  },
  {
   "cell_type": "code",
   "execution_count": 40,
   "metadata": {},
   "outputs": [],
   "source": [
    "from sklearn import tree\n",
    "clf = tree.DecisionTreeClassifier()\n",
    "clf = clf.fit(X_train, y_train)"
   ]
  },
  {
   "cell_type": "code",
   "execution_count": 41,
   "metadata": {},
   "outputs": [
    {
     "name": "stdout",
     "output_type": "stream",
     "text": [
      "['T.V par samaa news lagao' 'A.C ahista karo' 'T.V ki awaz kum karo' ...\n",
      " 'T.V par discovery lagao' 'A.C fast karo' 'T.V band karo']\n"
     ]
    },
    {
     "data": {
      "text/plain": [
       "0.05255023183925812"
      ]
     },
     "execution_count": 41,
     "metadata": {},
     "output_type": "execute_result"
    }
   ],
   "source": [
    "pred=clf.predict(X_test)\n",
    "print (pred)\n",
    "clf.score(X_test,y_test)"
   ]
  },
  {
   "cell_type": "code",
   "execution_count": null,
   "metadata": {},
   "outputs": [],
   "source": []
  },
  {
   "cell_type": "code",
   "execution_count": 42,
   "metadata": {},
   "outputs": [
    {
     "name": "stdout",
     "output_type": "stream",
     "text": [
      "Accuracy :  5.255023183925812\n",
      "Report : \n",
      "                                precision    recall  f1-score   support\n",
      "\n",
      "                 A.C off karo       0.00      0.00      0.00         6\n",
      "        Bethaq ki Light jalao       0.07      0.25      0.11         4\n",
      "              A.C ahista karo       0.13      0.18      0.15        11\n",
      "                A.C band karo       0.05      0.09      0.06        11\n",
      "                    A.C chlao       0.23      0.23      0.23        13\n",
      "                A.C fast karo       0.15      0.14      0.15        14\n",
      "                 A.C off karo       0.09      0.12      0.11         8\n",
      "                  A.C on karo       0.00      0.00      0.00        15\n",
      "                A.C slow karo       0.09      0.08      0.09        12\n",
      "                 A.C tez karo       0.00      0.00      0.00        21\n",
      "             Agla Gaana lagao       0.05      0.10      0.07        10\n",
      "           Agla channel lagao       0.11      0.14      0.12        14\n",
      "   Bathroom ka Bulb band karo       0.00      0.00      0.00        12\n",
      "       Bathroom ka Bulb jalao       0.00      0.00      0.00        12\n",
      "    Bathroom ka Bulb off karo       0.07      0.07      0.07        14\n",
      "     Bathroom ka Bulb on karo       0.15      0.17      0.16        12\n",
      "  Bathroom ki Light band karo       0.00      0.00      0.00        10\n",
      "      Bathroom ki Light jalao       0.06      0.08      0.07        13\n",
      "   Bathroom ki Light off karo       0.07      0.08      0.08        12\n",
      "    Bathroom ki Light on karo       0.00      0.00      0.00        12\n",
      "    Bedroom ka Bulb band karo       0.08      0.09      0.08        11\n",
      "        Bedroom ka Bulb jalao       0.00      0.00      0.00        13\n",
      "     Bedroom ka Bulb off karo       0.00      0.00      0.00        17\n",
      "      Bedroom ka Bulb on karo       0.00      0.00      0.00        10\n",
      "   Bedroom ki Light band karo       0.00      0.00      0.00        18\n",
      "       Bedroom ki Light jalao       0.05      0.06      0.05        16\n",
      "    Bedroom ki Light off karo       0.12      0.06      0.08        17\n",
      "     Bedroom ki Light on karo       0.00      0.00      0.00        10\n",
      "     Bethaq ka Bulb band karo       0.14      0.09      0.11        11\n",
      "         Bethaq ka Bulb jalao       0.07      0.06      0.06        17\n",
      "      Bethaq ka Bulb off karo       0.04      0.11      0.06         9\n",
      "       Bethaq ka Bulb on karo       0.00      0.00      0.00        13\n",
      "    Bethaq ki Light band karo       0.00      0.00      0.00        17\n",
      "        Bethaq ki Light jalao       0.00      0.00      0.00         8\n",
      "     Bethaq ki Light off karo       0.00      0.00      0.00        11\n",
      "  Bethaq ki Light off karo(1)       0.00      0.00      0.00         2\n",
      "      Bethaq ki Light on karo       0.08      0.07      0.07        14\n",
      "                 Gaaney lagao       0.00      0.00      0.00        11\n",
      "     Garage ka Bulb band karo       0.00      0.00      0.00        12\n",
      "         Garage ka Bulb jalao       0.00      0.00      0.00        19\n",
      "      Garage ka Bulb off karo       0.00      0.00      0.00        10\n",
      "       Garage ka Bulb on karo       0.00      0.00      0.00        13\n",
      "    Garage ki Light band karo       0.08      0.11      0.10         9\n",
      "        Garage ki Light jalao       0.06      0.07      0.06        14\n",
      "     Garage ki Light off karo       0.07      0.11      0.09         9\n",
      "      Garage ki Light on karo       0.00      0.00      0.00        11\n",
      "    Kitchen ka Bulb band karo       0.00      0.00      0.00        11\n",
      "        Kitchen ka Bulb jalao       0.00      0.00      0.00        12\n",
      "     Kitchen ka Bulb off karo       0.38      0.23      0.29        13\n",
      "      Kitchen ka Bulb on karo       0.00      0.00      0.00        12\n",
      "   Kitchen ki Light band karo       0.00      0.00      0.00         8\n",
      "       Kitchen ki Light jalao       0.00      0.00      0.00        11\n",
      "    Kitchen ki Light off karo       0.00      0.00      0.00        13\n",
      "     Kitchen ki Light on karo       0.05      0.08      0.06        12\n",
      "     Lounge ka Bulb band karo       0.09      0.07      0.08        14\n",
      "         Lounge ka Bulb jalao       0.00      0.00      0.00         9\n",
      "      Lounge ka Bulb off karo       0.12      0.07      0.09        14\n",
      "       Lounge ka Bulb on karo       0.00      0.00      0.00        15\n",
      "    Lounge ki Light band karo       0.08      0.17      0.11         6\n",
      "        Lounge ki Light jalao       0.08      0.08      0.08        12\n",
      "     Lounge ki Light off karo       0.17      0.12      0.14        17\n",
      "      Lounge ki Light on karo       0.00      0.00      0.00        12\n",
      "             Next Gaana lagao       0.00      0.00      0.00        11\n",
      "              Next Song lagao       0.27      0.20      0.23        15\n",
      "           Next channel lagao       0.00      0.00      0.00        12\n",
      "           Pichla Gaana lagao       0.20      0.17      0.18        12\n",
      "         Pichla channel lagao       0.09      0.06      0.07        16\n",
      "         Previous Gaana lagao       0.10      0.05      0.07        20\n",
      "          Previous Song lagao       0.13      0.12      0.12        17\n",
      "       Previous channel lagao       0.13      0.18      0.15        11\n",
      "                  Songs lagao       0.25      0.38      0.30        13\n",
      "                T.V band karo       0.00      0.00      0.00        13\n",
      "                    T.V chlao       0.00      0.00      0.00        11\n",
      "    T.V ka volume ahista karo       0.10      0.06      0.07        17\n",
      "      T.V ka volume slow karo       0.00      0.00      0.00        11\n",
      "       T.V ka volume tez karo       0.00      0.00      0.00        11\n",
      "     T.V ka volume ziada karo       0.00      0.00      0.00        13\n",
      "      T.V ki awaz ahista karo       0.00      0.00      0.00        17\n",
      "         T.V ki awaz kum karo       0.00      0.00      0.00        14\n",
      "        T.V ki awaz slow karo       0.00      0.00      0.00        11\n",
      "         T.V ki awaz tez karo       0.06      0.08      0.07        12\n",
      "       T.V ki awaz ziada karo       0.00      0.00      0.00        14\n",
      "                T.V mute karo       0.00      0.00      0.00        13\n",
      "                 T.V off karo       0.00      0.00      0.00        11\n",
      "                  T.V on karo       0.00      0.00      0.00        17\n",
      "    T.V par ARY Digital lagao       0.11      0.06      0.07        18\n",
      "       T.V par ARY news lagao       0.00      0.00      0.00        13\n",
      "            T.V par HBO lagao       0.00      0.00      0.00         8\n",
      "         T.V par HUM TV lagao       0.00      0.00      0.00        16\n",
      "       T.V par Masla TV lagao       0.00      0.00      0.00        11\n",
      "           T.V par Q-TV lagao       0.06      0.10      0.08        10\n",
      "        T.V par Q-TV lagao(1)       0.00      0.00      0.00         3\n",
      "T.V par cartoon network lagao       0.00      0.00      0.00         6\n",
      "      T.V par discovery lagao       0.07      0.17      0.10         6\n",
      "       T.V par jeo news lagao       0.08      0.08      0.08        12\n",
      "     T.V par samaa news lagao       0.06      0.11      0.08         9\n",
      "              T.V unmute karo       0.09      0.08      0.08        13\n",
      "   Washroom ka Bulb band karo       0.00      0.00      0.00        17\n",
      "       Washroom ka Bulb jalao       0.07      0.06      0.07        16\n",
      "    Washroom ka Bulb off karo       0.06      0.07      0.06        14\n",
      "     Washroom ka Bulb on karo       0.00      0.00      0.00        12\n",
      "  Washroom ki Light band karo       0.06      0.08      0.07        13\n",
      "      Washroom ki Light jalao       0.00      0.00      0.00        16\n",
      "   Washroom ki Light off karo       0.06      0.09      0.07        11\n",
      "    Washroom ki Light on karo       0.11      0.11      0.11         9\n",
      "\n",
      "                     accuracy                           0.05      1294\n",
      "                    macro avg       0.05      0.05      0.05      1294\n",
      "                 weighted avg       0.05      0.05      0.05      1294\n",
      "\n",
      "F1 Score :  4.997167704413767\n"
     ]
    },
    {
     "name": "stderr",
     "output_type": "stream",
     "text": [
      "/home/h/.local/lib/python3.8/site-packages/sklearn/metrics/_classification.py:1308: UndefinedMetricWarning: Precision and F-score are ill-defined and being set to 0.0 in labels with no predicted samples. Use `zero_division` parameter to control this behavior.\n",
      "  _warn_prf(average, modifier, msg_start, len(result))\n",
      "/home/h/.local/lib/python3.8/site-packages/sklearn/metrics/_classification.py:1308: UndefinedMetricWarning: Precision and F-score are ill-defined and being set to 0.0 in labels with no predicted samples. Use `zero_division` parameter to control this behavior.\n",
      "  _warn_prf(average, modifier, msg_start, len(result))\n",
      "/home/h/.local/lib/python3.8/site-packages/sklearn/metrics/_classification.py:1308: UndefinedMetricWarning: Precision and F-score are ill-defined and being set to 0.0 in labels with no predicted samples. Use `zero_division` parameter to control this behavior.\n",
      "  _warn_prf(average, modifier, msg_start, len(result))\n"
     ]
    }
   ],
   "source": [
    "from sklearn.metrics import confusion_matrix\n",
    "from sklearn.metrics import accuracy_score\n",
    "from sklearn.metrics import f1_score\n",
    "from sklearn.metrics import classification_report \n",
    "print (\"Accuracy : \" , accuracy_score(y_test,pred)*100)  \n",
    "print(\"Report : \\n\", classification_report(y_test, pred))\n",
    "print(\"F1 Score : \",f1_score(y_test, pred, average='macro')*100)"
   ]
  },
  {
   "cell_type": "code",
   "execution_count": 43,
   "metadata": {},
   "outputs": [],
   "source": [
    "from sklearn.neighbors import KNeighborsClassifier\n",
    "# clf1=KNeighborsClassifier()\n",
    "# clf1.fit(X_train, y_train)\n",
    "# pred=clf1.predict(X_test)\n",
    "# clf1.score(X_test,y_test)"
   ]
  },
  {
   "cell_type": "code",
   "execution_count": 44,
   "metadata": {},
   "outputs": [
    {
     "name": "stdout",
     "output_type": "stream",
     "text": [
      "Accuracy :  5.255023183925812\n",
      "Report : \n",
      "                                precision    recall  f1-score   support\n",
      "\n",
      "                 A.C off karo       0.00      0.00      0.00         6\n",
      "        Bethaq ki Light jalao       0.07      0.25      0.11         4\n",
      "              A.C ahista karo       0.13      0.18      0.15        11\n",
      "                A.C band karo       0.05      0.09      0.06        11\n",
      "                    A.C chlao       0.23      0.23      0.23        13\n",
      "                A.C fast karo       0.15      0.14      0.15        14\n",
      "                 A.C off karo       0.09      0.12      0.11         8\n",
      "                  A.C on karo       0.00      0.00      0.00        15\n",
      "                A.C slow karo       0.09      0.08      0.09        12\n",
      "                 A.C tez karo       0.00      0.00      0.00        21\n",
      "             Agla Gaana lagao       0.05      0.10      0.07        10\n",
      "           Agla channel lagao       0.11      0.14      0.12        14\n",
      "   Bathroom ka Bulb band karo       0.00      0.00      0.00        12\n",
      "       Bathroom ka Bulb jalao       0.00      0.00      0.00        12\n",
      "    Bathroom ka Bulb off karo       0.07      0.07      0.07        14\n",
      "     Bathroom ka Bulb on karo       0.15      0.17      0.16        12\n",
      "  Bathroom ki Light band karo       0.00      0.00      0.00        10\n",
      "      Bathroom ki Light jalao       0.06      0.08      0.07        13\n",
      "   Bathroom ki Light off karo       0.07      0.08      0.08        12\n",
      "    Bathroom ki Light on karo       0.00      0.00      0.00        12\n",
      "    Bedroom ka Bulb band karo       0.08      0.09      0.08        11\n",
      "        Bedroom ka Bulb jalao       0.00      0.00      0.00        13\n",
      "     Bedroom ka Bulb off karo       0.00      0.00      0.00        17\n",
      "      Bedroom ka Bulb on karo       0.00      0.00      0.00        10\n",
      "   Bedroom ki Light band karo       0.00      0.00      0.00        18\n",
      "       Bedroom ki Light jalao       0.05      0.06      0.05        16\n",
      "    Bedroom ki Light off karo       0.12      0.06      0.08        17\n",
      "     Bedroom ki Light on karo       0.00      0.00      0.00        10\n",
      "     Bethaq ka Bulb band karo       0.14      0.09      0.11        11\n",
      "         Bethaq ka Bulb jalao       0.07      0.06      0.06        17\n",
      "      Bethaq ka Bulb off karo       0.04      0.11      0.06         9\n",
      "       Bethaq ka Bulb on karo       0.00      0.00      0.00        13\n",
      "    Bethaq ki Light band karo       0.00      0.00      0.00        17\n",
      "        Bethaq ki Light jalao       0.00      0.00      0.00         8\n",
      "     Bethaq ki Light off karo       0.00      0.00      0.00        11\n",
      "  Bethaq ki Light off karo(1)       0.00      0.00      0.00         2\n",
      "      Bethaq ki Light on karo       0.08      0.07      0.07        14\n",
      "                 Gaaney lagao       0.00      0.00      0.00        11\n",
      "     Garage ka Bulb band karo       0.00      0.00      0.00        12\n",
      "         Garage ka Bulb jalao       0.00      0.00      0.00        19\n",
      "      Garage ka Bulb off karo       0.00      0.00      0.00        10\n",
      "       Garage ka Bulb on karo       0.00      0.00      0.00        13\n",
      "    Garage ki Light band karo       0.08      0.11      0.10         9\n",
      "        Garage ki Light jalao       0.06      0.07      0.06        14\n",
      "     Garage ki Light off karo       0.07      0.11      0.09         9\n",
      "      Garage ki Light on karo       0.00      0.00      0.00        11\n",
      "    Kitchen ka Bulb band karo       0.00      0.00      0.00        11\n",
      "        Kitchen ka Bulb jalao       0.00      0.00      0.00        12\n",
      "     Kitchen ka Bulb off karo       0.38      0.23      0.29        13\n",
      "      Kitchen ka Bulb on karo       0.00      0.00      0.00        12\n",
      "   Kitchen ki Light band karo       0.00      0.00      0.00         8\n",
      "       Kitchen ki Light jalao       0.00      0.00      0.00        11\n",
      "    Kitchen ki Light off karo       0.00      0.00      0.00        13\n",
      "     Kitchen ki Light on karo       0.05      0.08      0.06        12\n",
      "     Lounge ka Bulb band karo       0.09      0.07      0.08        14\n",
      "         Lounge ka Bulb jalao       0.00      0.00      0.00         9\n",
      "      Lounge ka Bulb off karo       0.12      0.07      0.09        14\n",
      "       Lounge ka Bulb on karo       0.00      0.00      0.00        15\n",
      "    Lounge ki Light band karo       0.08      0.17      0.11         6\n",
      "        Lounge ki Light jalao       0.08      0.08      0.08        12\n",
      "     Lounge ki Light off karo       0.17      0.12      0.14        17\n",
      "      Lounge ki Light on karo       0.00      0.00      0.00        12\n",
      "             Next Gaana lagao       0.00      0.00      0.00        11\n",
      "              Next Song lagao       0.27      0.20      0.23        15\n",
      "           Next channel lagao       0.00      0.00      0.00        12\n",
      "           Pichla Gaana lagao       0.20      0.17      0.18        12\n",
      "         Pichla channel lagao       0.09      0.06      0.07        16\n",
      "         Previous Gaana lagao       0.10      0.05      0.07        20\n",
      "          Previous Song lagao       0.13      0.12      0.12        17\n",
      "       Previous channel lagao       0.13      0.18      0.15        11\n",
      "                  Songs lagao       0.25      0.38      0.30        13\n",
      "                T.V band karo       0.00      0.00      0.00        13\n",
      "                    T.V chlao       0.00      0.00      0.00        11\n",
      "    T.V ka volume ahista karo       0.10      0.06      0.07        17\n",
      "      T.V ka volume slow karo       0.00      0.00      0.00        11\n",
      "       T.V ka volume tez karo       0.00      0.00      0.00        11\n",
      "     T.V ka volume ziada karo       0.00      0.00      0.00        13\n",
      "      T.V ki awaz ahista karo       0.00      0.00      0.00        17\n",
      "         T.V ki awaz kum karo       0.00      0.00      0.00        14\n",
      "        T.V ki awaz slow karo       0.00      0.00      0.00        11\n",
      "         T.V ki awaz tez karo       0.06      0.08      0.07        12\n",
      "       T.V ki awaz ziada karo       0.00      0.00      0.00        14\n",
      "                T.V mute karo       0.00      0.00      0.00        13\n",
      "                 T.V off karo       0.00      0.00      0.00        11\n",
      "                  T.V on karo       0.00      0.00      0.00        17\n",
      "    T.V par ARY Digital lagao       0.11      0.06      0.07        18\n",
      "       T.V par ARY news lagao       0.00      0.00      0.00        13\n",
      "            T.V par HBO lagao       0.00      0.00      0.00         8\n",
      "         T.V par HUM TV lagao       0.00      0.00      0.00        16\n",
      "       T.V par Masla TV lagao       0.00      0.00      0.00        11\n",
      "           T.V par Q-TV lagao       0.06      0.10      0.08        10\n",
      "        T.V par Q-TV lagao(1)       0.00      0.00      0.00         3\n",
      "T.V par cartoon network lagao       0.00      0.00      0.00         6\n",
      "      T.V par discovery lagao       0.07      0.17      0.10         6\n",
      "       T.V par jeo news lagao       0.08      0.08      0.08        12\n",
      "     T.V par samaa news lagao       0.06      0.11      0.08         9\n",
      "              T.V unmute karo       0.09      0.08      0.08        13\n",
      "   Washroom ka Bulb band karo       0.00      0.00      0.00        17\n",
      "       Washroom ka Bulb jalao       0.07      0.06      0.07        16\n",
      "    Washroom ka Bulb off karo       0.06      0.07      0.06        14\n",
      "     Washroom ka Bulb on karo       0.00      0.00      0.00        12\n",
      "  Washroom ki Light band karo       0.06      0.08      0.07        13\n",
      "      Washroom ki Light jalao       0.00      0.00      0.00        16\n",
      "   Washroom ki Light off karo       0.06      0.09      0.07        11\n",
      "    Washroom ki Light on karo       0.11      0.11      0.11         9\n",
      "\n",
      "                     accuracy                           0.05      1294\n",
      "                    macro avg       0.05      0.05      0.05      1294\n",
      "                 weighted avg       0.05      0.05      0.05      1294\n",
      "\n",
      "F1 Score :  4.997167704413767\n"
     ]
    },
    {
     "name": "stderr",
     "output_type": "stream",
     "text": [
      "/home/h/.local/lib/python3.8/site-packages/sklearn/metrics/_classification.py:1308: UndefinedMetricWarning: Precision and F-score are ill-defined and being set to 0.0 in labels with no predicted samples. Use `zero_division` parameter to control this behavior.\n",
      "  _warn_prf(average, modifier, msg_start, len(result))\n",
      "/home/h/.local/lib/python3.8/site-packages/sklearn/metrics/_classification.py:1308: UndefinedMetricWarning: Precision and F-score are ill-defined and being set to 0.0 in labels with no predicted samples. Use `zero_division` parameter to control this behavior.\n",
      "  _warn_prf(average, modifier, msg_start, len(result))\n",
      "/home/h/.local/lib/python3.8/site-packages/sklearn/metrics/_classification.py:1308: UndefinedMetricWarning: Precision and F-score are ill-defined and being set to 0.0 in labels with no predicted samples. Use `zero_division` parameter to control this behavior.\n",
      "  _warn_prf(average, modifier, msg_start, len(result))\n"
     ]
    }
   ],
   "source": [
    "from sklearn.metrics import confusion_matrix\n",
    "from sklearn.metrics import accuracy_score\n",
    "from sklearn.metrics import f1_score\n",
    "from sklearn.metrics import classification_report \n",
    "print (\"Accuracy : \" , accuracy_score(y_test,pred)*100)  \n",
    "print(\"Report : \\n\", classification_report(y_test, pred))\n",
    "print(\"F1 Score : \",f1_score(y_test, pred, average='macro')*100)"
   ]
  },
  {
   "cell_type": "code",
   "execution_count": null,
   "metadata": {},
   "outputs": [],
   "source": []
  },
  {
   "cell_type": "code",
   "execution_count": null,
   "metadata": {},
   "outputs": [],
   "source": []
  },
  {
   "cell_type": "code",
   "execution_count": null,
   "metadata": {},
   "outputs": [],
   "source": []
  },
  {
   "cell_type": "code",
   "execution_count": null,
   "metadata": {},
   "outputs": [],
   "source": []
  },
  {
   "cell_type": "code",
   "execution_count": null,
   "metadata": {},
   "outputs": [],
   "source": []
  },
  {
   "cell_type": "code",
   "execution_count": 111,
   "metadata": {},
   "outputs": [
    {
     "name": "stderr",
     "output_type": "stream",
     "text": [
      "/home/h/.local/lib/python3.8/site-packages/sklearn/neighbors/_classification.py:198: DataConversionWarning: A column-vector y was passed when a 1d array was expected. Please change the shape of y to (n_samples,), for example using ravel().\n",
      "  return self._fit(X, y)\n"
     ]
    },
    {
     "data": {
      "text/plain": [
       "0.037884767166535126"
      ]
     },
     "execution_count": 111,
     "metadata": {},
     "output_type": "execute_result"
    }
   ],
   "source": [
    "clf1=KNeighborsClassifier()\n",
    "clf1.fit(X_train_sc,y_train)\n",
    "pred=clf1.predict(X_test_sc)\n",
    "clf1.score(X_test_sc,y_test)"
   ]
  },
  {
   "cell_type": "code",
   "execution_count": null,
   "metadata": {},
   "outputs": [],
   "source": []
  },
  {
   "cell_type": "code",
   "execution_count": null,
   "metadata": {},
   "outputs": [],
   "source": []
  },
  {
   "cell_type": "code",
   "execution_count": null,
   "metadata": {},
   "outputs": [],
   "source": []
  },
  {
   "cell_type": "code",
   "execution_count": null,
   "metadata": {},
   "outputs": [],
   "source": []
  },
  {
   "cell_type": "code",
   "execution_count": null,
   "metadata": {},
   "outputs": [],
   "source": []
  },
  {
   "cell_type": "code",
   "execution_count": null,
   "metadata": {},
   "outputs": [],
   "source": []
  },
  {
   "cell_type": "code",
   "execution_count": null,
   "metadata": {},
   "outputs": [],
   "source": []
  },
  {
   "cell_type": "code",
   "execution_count": null,
   "metadata": {},
   "outputs": [],
   "source": []
  },
  {
   "cell_type": "code",
   "execution_count": null,
   "metadata": {},
   "outputs": [],
   "source": []
  }
 ],
 "metadata": {
  "kernelspec": {
   "display_name": "Python 3 (ipykernel)",
   "language": "python",
   "name": "python3"
  },
  "language_info": {
   "codemirror_mode": {
    "name": "ipython",
    "version": 3
   },
   "file_extension": ".py",
   "mimetype": "text/x-python",
   "name": "python",
   "nbconvert_exporter": "python",
   "pygments_lexer": "ipython3",
   "version": "3.8.10"
  }
 },
 "nbformat": 4,
 "nbformat_minor": 2
}
