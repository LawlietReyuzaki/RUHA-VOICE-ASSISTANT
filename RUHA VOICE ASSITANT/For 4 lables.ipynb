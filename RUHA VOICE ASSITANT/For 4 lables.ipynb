{
 "cells": [
  {
   "cell_type": "code",
   "execution_count": 1,
   "metadata": {},
   "outputs": [],
   "source": [
    "import pandas as pd \n",
    "from sklearn.model_selection import train_test_split"
   ]
  },
  {
   "cell_type": "code",
   "execution_count": 2,
   "metadata": {},
   "outputs": [],
   "source": [
    "df=pd.read_csv('sound MFCC.csv')"
   ]
  },
  {
   "cell_type": "code",
   "execution_count": 16,
   "metadata": {},
   "outputs": [
    {
     "data": {
      "text/html": [
       "<div>\n",
       "<style scoped>\n",
       "    .dataframe tbody tr th:only-of-type {\n",
       "        vertical-align: middle;\n",
       "    }\n",
       "\n",
       "    .dataframe tbody tr th {\n",
       "        vertical-align: top;\n",
       "    }\n",
       "\n",
       "    .dataframe thead th {\n",
       "        text-align: right;\n",
       "    }\n",
       "</style>\n",
       "<table border=\"1\" class=\"dataframe\">\n",
       "  <thead>\n",
       "    <tr style=\"text-align: right;\">\n",
       "      <th></th>\n",
       "      <th>Lable1</th>\n",
       "      <th>Lable2</th>\n",
       "      <th>MFCC</th>\n",
       "      <th>chromogram</th>\n",
       "      <th>melspectrogram</th>\n",
       "      <th>tonnetz</th>\n",
       "    </tr>\n",
       "  </thead>\n",
       "  <tbody>\n",
       "    <tr>\n",
       "      <th>0</th>\n",
       "      <td>-1.0</td>\n",
       "      <td>Bulb</td>\n",
       "      <td>-13.566445</td>\n",
       "      <td>0.362861</td>\n",
       "      <td>0.181155</td>\n",
       "      <td>[0.         0.         0.         ... 0.000841...</td>\n",
       "    </tr>\n",
       "    <tr>\n",
       "      <th>1</th>\n",
       "      <td>-1.0</td>\n",
       "      <td>Bulb</td>\n",
       "      <td>-13.563948</td>\n",
       "      <td>0.374355</td>\n",
       "      <td>1.786949</td>\n",
       "      <td>[ 0.          0.          0.         ... -0.00...</td>\n",
       "    </tr>\n",
       "    <tr>\n",
       "      <th>2</th>\n",
       "      <td>-1.0</td>\n",
       "      <td>Bulb</td>\n",
       "      <td>-17.413774</td>\n",
       "      <td>0.384585</td>\n",
       "      <td>0.107298</td>\n",
       "      <td>[0.0000000e+00 0.0000000e+00 0.0000000e+00 ......</td>\n",
       "    </tr>\n",
       "    <tr>\n",
       "      <th>3</th>\n",
       "      <td>-1.0</td>\n",
       "      <td>Bulb</td>\n",
       "      <td>-26.022346</td>\n",
       "      <td>0.298221</td>\n",
       "      <td>0.448569</td>\n",
       "      <td>[ 0.0000000e+00  0.0000000e+00  0.0000000e+00 ...</td>\n",
       "    </tr>\n",
       "    <tr>\n",
       "      <th>4</th>\n",
       "      <td>-1.0</td>\n",
       "      <td>Bulb</td>\n",
       "      <td>-16.718997</td>\n",
       "      <td>0.323172</td>\n",
       "      <td>0.904120</td>\n",
       "      <td>[0.0000000e+00 0.0000000e+00 0.0000000e+00 ......</td>\n",
       "    </tr>\n",
       "    <tr>\n",
       "      <th>...</th>\n",
       "      <td>...</td>\n",
       "      <td>...</td>\n",
       "      <td>...</td>\n",
       "      <td>...</td>\n",
       "      <td>...</td>\n",
       "      <td>...</td>\n",
       "    </tr>\n",
       "    <tr>\n",
       "      <th>6465</th>\n",
       "      <td>-1.0</td>\n",
       "      <td>Gaana</td>\n",
       "      <td>-13.951214</td>\n",
       "      <td>0.519020</td>\n",
       "      <td>0.603590</td>\n",
       "      <td>[ 9.81436315e-05  4.18178570e-05 -1.25880797e-...</td>\n",
       "    </tr>\n",
       "    <tr>\n",
       "      <th>6466</th>\n",
       "      <td>-1.0</td>\n",
       "      <td>Gaana</td>\n",
       "      <td>-15.452896</td>\n",
       "      <td>0.425502</td>\n",
       "      <td>1.083514</td>\n",
       "      <td>[0.         0.         0.         ... 0.002144...</td>\n",
       "    </tr>\n",
       "    <tr>\n",
       "      <th>6467</th>\n",
       "      <td>-1.0</td>\n",
       "      <td>Gaana</td>\n",
       "      <td>-16.023721</td>\n",
       "      <td>0.379936</td>\n",
       "      <td>0.581761</td>\n",
       "      <td>[0.         0.         0.         ... 0.002867...</td>\n",
       "    </tr>\n",
       "    <tr>\n",
       "      <th>6468</th>\n",
       "      <td>-1.0</td>\n",
       "      <td>Gaana</td>\n",
       "      <td>-10.796423</td>\n",
       "      <td>0.521583</td>\n",
       "      <td>5.853522</td>\n",
       "      <td>[6.092863e-08 6.083087e-08 6.068511e-08 ... 0....</td>\n",
       "    </tr>\n",
       "    <tr>\n",
       "      <th>6469</th>\n",
       "      <td>-1.0</td>\n",
       "      <td>Gaana</td>\n",
       "      <td>-15.252177</td>\n",
       "      <td>0.435144</td>\n",
       "      <td>2.623096</td>\n",
       "      <td>[ 0.0000000e+00 -1.2627019e-21 -2.4458553e-22 ...</td>\n",
       "    </tr>\n",
       "  </tbody>\n",
       "</table>\n",
       "<p>6470 rows × 6 columns</p>\n",
       "</div>"
      ],
      "text/plain": [
       "      Lable1 Lable2       MFCC  chromogram  melspectrogram  \\\n",
       "0       -1.0   Bulb -13.566445    0.362861        0.181155   \n",
       "1       -1.0   Bulb -13.563948    0.374355        1.786949   \n",
       "2       -1.0   Bulb -17.413774    0.384585        0.107298   \n",
       "3       -1.0   Bulb -26.022346    0.298221        0.448569   \n",
       "4       -1.0   Bulb -16.718997    0.323172        0.904120   \n",
       "...      ...    ...        ...         ...             ...   \n",
       "6465    -1.0  Gaana -13.951214    0.519020        0.603590   \n",
       "6466    -1.0  Gaana -15.452896    0.425502        1.083514   \n",
       "6467    -1.0  Gaana -16.023721    0.379936        0.581761   \n",
       "6468    -1.0  Gaana -10.796423    0.521583        5.853522   \n",
       "6469    -1.0  Gaana -15.252177    0.435144        2.623096   \n",
       "\n",
       "                                                tonnetz  \n",
       "0     [0.         0.         0.         ... 0.000841...  \n",
       "1     [ 0.          0.          0.         ... -0.00...  \n",
       "2     [0.0000000e+00 0.0000000e+00 0.0000000e+00 ......  \n",
       "3     [ 0.0000000e+00  0.0000000e+00  0.0000000e+00 ...  \n",
       "4     [0.0000000e+00 0.0000000e+00 0.0000000e+00 ......  \n",
       "...                                                 ...  \n",
       "6465  [ 9.81436315e-05  4.18178570e-05 -1.25880797e-...  \n",
       "6466  [0.         0.         0.         ... 0.002144...  \n",
       "6467  [0.         0.         0.         ... 0.002867...  \n",
       "6468  [6.092863e-08 6.083087e-08 6.068511e-08 ... 0....  \n",
       "6469  [ 0.0000000e+00 -1.2627019e-21 -2.4458553e-22 ...  \n",
       "\n",
       "[6470 rows x 6 columns]"
      ]
     },
     "execution_count": 16,
     "metadata": {},
     "output_type": "execute_result"
    }
   ],
   "source": [
    "df.drop('Unnamed: 0',axis=1)"
   ]
  },
  {
   "cell_type": "code",
   "execution_count": null,
   "metadata": {},
   "outputs": [],
   "source": []
  },
  {
   "cell_type": "code",
   "execution_count": 57,
   "metadata": {},
   "outputs": [
    {
     "name": "stdout",
     "output_type": "stream",
     "text": [
      "           MFCC  Lable1  chromogram  melspectrogram\n",
      "0    -13.566445    -1.0    0.362861        0.181155\n",
      "1    -13.563948    -1.0    0.374355        1.786949\n",
      "2    -17.413774    -1.0    0.384585        0.107298\n",
      "3    -26.022346    -1.0    0.298221        0.448569\n",
      "4    -16.718997    -1.0    0.323172        0.904120\n",
      "...         ...     ...         ...             ...\n",
      "6465 -13.951214    -1.0    0.519020        0.603590\n",
      "6466 -15.452896    -1.0    0.425502        1.083514\n",
      "6467 -16.023721    -1.0    0.379936        0.581761\n",
      "6468 -10.796423    -1.0    0.521583        5.853522\n",
      "6469 -15.252177    -1.0    0.435144        2.623096\n",
      "\n",
      "[6470 rows x 4 columns]\n",
      "Shape of X =  (6470, 4)\n",
      "Shape of y =  (6470, 1)\n"
     ]
    }
   ],
   "source": [
    "# df=df.drop(\"Id\",axis=1)\n",
    "#X = df.drop(\"Unnamed\", axis = 1)\n",
    "# X = df.drop(\"Lable1\", axis = 1)\n",
    "# X = X.drop(\"Lable2\", axis = 1)\n",
    "X = df[[\"MFCC\", \"Lable1\", \"chromogram\", \"melspectrogram\"]]\n",
    "y = df[[\"Lable2\"]]\n",
    "print(X)\n",
    "print('Shape of X = ', X.shape)\n",
    "print('Shape of y = ', y.shape)"
   ]
  },
  {
   "cell_type": "code",
   "execution_count": null,
   "metadata": {},
   "outputs": [],
   "source": []
  },
  {
   "cell_type": "code",
   "execution_count": 58,
   "metadata": {},
   "outputs": [
    {
     "name": "stdout",
     "output_type": "stream",
     "text": [
      "           MFCC  chromogram  melspectrogram\n",
      "0    -13.566445    0.362861        0.181155\n",
      "1    -13.563948    0.374355        1.786949\n",
      "2    -17.413774    0.384585        0.107298\n",
      "3    -26.022346    0.298221        0.448569\n",
      "4    -16.718997    0.323172        0.904120\n",
      "...         ...         ...             ...\n",
      "6465 -13.951214    0.519020        0.603590\n",
      "6466 -15.452896    0.425502        1.083514\n",
      "6467 -16.023721    0.379936        0.581761\n",
      "6468 -10.796423    0.521583        5.853522\n",
      "6469 -15.252177    0.435144        2.623096\n",
      "\n",
      "[6470 rows x 3 columns]\n"
     ]
    }
   ],
   "source": [
    "d={'A.C band karo': 0, 'Washroom ka Bulb on karo': 1, 'T.V on karo': 2, 'Previous Gaana lagao': 3, 'Bedroom ki Light off karo': 4, 'Garage ki Light band karo': 5, 'A.C tez karo': 6, 'Next channel lagao': 7, 'Bedroom ka Bulb on karo': 8, 'T.V par Masla TV lagao': 9, 'Bathroom ka Bulb off karo': 10, 'Bathroom ka Bulb band karo': 11, 'Bethaq ki Light band karo': 12, 'Gaaney lagao': 13, 'T.V par ARY Digital lagao': 14, 'Kitchen ki Light off karo': 15, 'T.V ka volume ziada karo': 16, 'Washroom ki Light band karo': 17, 'T.V unmute karo': 18, 'T.V off karo': 19, 'Bethaq ka Bulb jalao': 20, 'Bedroom ki Light jalao': 21, 'Lounge ka Bulb off karo': 22, 'A.C fast karo': 23, 'Previous channel lagao': 24, 'Garage ka Bulb on karo': 25, 'Lounge ka Bulb band karo': 26, 'Kitchen ki Light on karo': 27, 'Bethaq ki Light jalao': 28, 'lable.py': 29, 'T.V ka volume slow karo': 30, 'Bethaq ka Bulb band karo': 31, 'Pichla Gaana lagao': 32, 'T.V mute karo': 33, 'Bedroom ki Light band karo': 34, 'A.C on karo': 35, 'Garage ki Light off karo': 36, 'T.V ki awaz ahista karo': 37, 'Pichla channel lagao': 38, 'Kitchen ka Bulb off karo': 39, 'T.V par jeo news lagao': 40, 'Washroom ka Bulb off karo': 41, 'Lounge ki Light off karo': 42, 'Bedroom ki Light on karo': 43, 'Bathroom ki Light off karo': 44, 'Agla Gaana lagao': 45, 'T.V ki awaz slow karo': 46, 'Kitchen ka Bulb on karo': 47, 'Bethaq ki Light on karo': 48, 'T.V par HUM TV lagao': 49, 'T.V ka volume tez karo': 50, 'T.V ki awaz ziada karo': 51, 'Bethaq ki Light off karo': 52, 'T.V par ARY news lagao': 53, 'Agla channel lagao': 54, 'Songs lagao': 55, 'Washroom ki Light jalao': 56, 'Bathroom ka Bulb jalao': 57, 'Garage ka Bulb off karo': 58, 'Bedroom ka Bulb jalao': 59, 'T.V par HBO lagao': 60, 'T.V ki awaz tez karo': 61, 'Washroom ka Bulb jalao': 62, 'Next Gana lagao': 63, 'Bedroom ka Bulb off karo': 64, 'A.C ahista karo': 65, 'Washroom ki Light on karo': 66, 'A.C slow karo': 67, 'Bathroom ki Light band karo': 68, 'A.C off karo': 69, 'Bedroom ka bulb band karo': 70, 'T.V par cartoon network lagao': 71, 'Washroom ki Light off karo': 72, 'T.V chlao': 73, 'T.V par samaa news lagao': 74, 'Lounge ki Light on karo': 75, 'T.V ki awaz kum karo': 76, 'Previous Song lagao': 77, 'Garage ki Light jalao': 78, 'Kitchen ka Bulb band karo': 79, 'Garage ki Light on karo': 80, 'Kitchen ki Light band karo': 81, 'Washroom ka Bulb band karo': 82, 'T.V par discovery lagao': 83, 'Lounge ka Bulb on karo': 84, 'T.V par Q-TV lagao': 85, 'Kitchen ki Light jalao': 86, 'Garage ka Bulb jalao': 87, 'Bathroom ki Light jalao': 88, 'Next Song lagao': 89, 'Bathroom ka Bulb on karo': 90, 'Lounge ka Bulb jalao': 91, 'Bathroom ki Light on karo': 92, 'Bethaq ka Bulb off karo': 93, 'Kitchen ka Bulb jalao': 94, 'Lounge ki Light jalao': 95, 'T.V ka volume ahista karo': 96, 'A.C chlao': 97, 'Garage ka Bulb band karo': 98, 'Lounge ki Light band karo': 99}\n",
    "\n",
    "\n",
    "df[\"Lable1\"]=df[\"Lable1\"].map(d)\n",
    "df['Lable1']=df[\"Lable1\"].replace(np.nan, -1)\n",
    "X = df[[\"MFCC\" , \"chromogram\", \"melspectrogram\"\n",
    "       \n",
    "       ]]\n",
    "X\n",
    "print (X)"
   ]
  },
  {
   "cell_type": "code",
   "execution_count": 59,
   "metadata": {},
   "outputs": [],
   "source": [
    "List = df['tonnetz'].tolist()"
   ]
  },
  {
   "cell_type": "code",
   "execution_count": null,
   "metadata": {},
   "outputs": [],
   "source": []
  },
  {
   "cell_type": "code",
   "execution_count": 60,
   "metadata": {},
   "outputs": [
    {
     "name": "stdout",
     "output_type": "stream",
     "text": [
      "Shape of X_train =  (5176, 3)\n",
      "Shape of y_train =  (5176, 1)\n",
      "Shape of X_test =  (1294, 3)\n",
      "Shape of y_test =  (1294, 1)\n"
     ]
    }
   ],
   "source": [
    "X_train, X_test, y_train, y_test =train_test_split(X, y, test_size=0.2, random_state=51)\n",
    "print('Shape of X_train = ', X_train.shape)\n",
    "print('Shape of y_train = ', y_train.shape)\n",
    "print('Shape of X_test = ', X_test.shape)\n",
    "print('Shape of y_test = ', y_test.shape)"
   ]
  },
  {
   "cell_type": "code",
   "execution_count": 61,
   "metadata": {},
   "outputs": [],
   "source": [
    "import numpy as np\n",
    "from sklearn.preprocessing import StandardScaler\n",
    "from sklearn.preprocessing import MinMaxScaler"
   ]
  },
  {
   "cell_type": "code",
   "execution_count": 62,
   "metadata": {},
   "outputs": [],
   "source": [
    "sc = StandardScaler()\n",
    "sc.fit(X_train)\n",
    "X_train_sc = sc.transform(X_train)\n",
    "X_test_sc = sc.transform(X_test)"
   ]
  },
  {
   "cell_type": "code",
   "execution_count": 63,
   "metadata": {},
   "outputs": [
    {
     "data": {
      "text/html": [
       "<div>\n",
       "<style scoped>\n",
       "    .dataframe tbody tr th:only-of-type {\n",
       "        vertical-align: middle;\n",
       "    }\n",
       "\n",
       "    .dataframe tbody tr th {\n",
       "        vertical-align: top;\n",
       "    }\n",
       "\n",
       "    .dataframe thead th {\n",
       "        text-align: right;\n",
       "    }\n",
       "</style>\n",
       "<table border=\"1\" class=\"dataframe\">\n",
       "  <thead>\n",
       "    <tr style=\"text-align: right;\">\n",
       "      <th></th>\n",
       "      <th>MFCC</th>\n",
       "      <th>chromogram</th>\n",
       "      <th>melspectrogram</th>\n",
       "    </tr>\n",
       "  </thead>\n",
       "  <tbody>\n",
       "    <tr>\n",
       "      <th>4025</th>\n",
       "      <td>-11.946082</td>\n",
       "      <td>0.484721</td>\n",
       "      <td>0.734576</td>\n",
       "    </tr>\n",
       "    <tr>\n",
       "      <th>5526</th>\n",
       "      <td>-19.341837</td>\n",
       "      <td>0.359131</td>\n",
       "      <td>0.579733</td>\n",
       "    </tr>\n",
       "    <tr>\n",
       "      <th>5360</th>\n",
       "      <td>-28.031194</td>\n",
       "      <td>0.486351</td>\n",
       "      <td>0.001961</td>\n",
       "    </tr>\n",
       "    <tr>\n",
       "      <th>3477</th>\n",
       "      <td>-12.891295</td>\n",
       "      <td>0.545741</td>\n",
       "      <td>0.733368</td>\n",
       "    </tr>\n",
       "    <tr>\n",
       "      <th>5241</th>\n",
       "      <td>-21.736798</td>\n",
       "      <td>0.323074</td>\n",
       "      <td>0.274186</td>\n",
       "    </tr>\n",
       "  </tbody>\n",
       "</table>\n",
       "</div>"
      ],
      "text/plain": [
       "           MFCC  chromogram  melspectrogram\n",
       "4025 -11.946082    0.484721        0.734576\n",
       "5526 -19.341837    0.359131        0.579733\n",
       "5360 -28.031194    0.486351        0.001961\n",
       "3477 -12.891295    0.545741        0.733368\n",
       "5241 -21.736798    0.323074        0.274186"
      ]
     },
     "execution_count": 63,
     "metadata": {},
     "output_type": "execute_result"
    }
   ],
   "source": [
    "# Feature Test Data, non-standardized\n",
    "X_test[0:5]"
   ]
  },
  {
   "cell_type": "code",
   "execution_count": 64,
   "metadata": {},
   "outputs": [
    {
     "data": {
      "text/plain": [
       "array([[ 0.57534171,  0.58120593, -0.38892391],\n",
       "       [-0.73191044, -1.06087192, -0.46968915],\n",
       "       [-2.26781563,  0.60252065, -0.77105218],\n",
       "       [ 0.40826852,  1.37903171, -0.38955379],\n",
       "       [-1.1552367 , -1.53231328, -0.62906088]])"
      ]
     },
     "execution_count": 64,
     "metadata": {},
     "output_type": "execute_result"
    }
   ],
   "source": [
    "# Feature Test Data, standardized.\n",
    "X_test_sc[0:5]"
   ]
  },
  {
   "cell_type": "code",
   "execution_count": 67,
   "metadata": {},
   "outputs": [],
   "source": [
    "X_train_sc =  pd.DataFrame(X_train_sc, columns = ['MFCC','chromogram', \"melspectrogram\"])\n",
    "X_test_sc =  pd.DataFrame(X_test_sc, columns = ['MFCC','chromogram', \"melspectrogram\"])"
   ]
  },
  {
   "cell_type": "code",
   "execution_count": 68,
   "metadata": {},
   "outputs": [],
   "source": [
    "from sklearn import tree\n",
    "clf = tree.DecisionTreeClassifier()\n",
    "clf = clf.fit(X_train, y_train)\n",
    "\n",
    "\n",
    "import pickle\n",
    "\n",
    "filename = 'finalized_model.sav'\n",
    "pickle.dump(clf, open(filename, 'wb'))\n",
    "\n",
    "\n"
   ]
  },
  {
   "cell_type": "code",
   "execution_count": 69,
   "metadata": {},
   "outputs": [
    {
     "name": "stdout",
     "output_type": "stream",
     "text": [
      "['Bulb' 'A.C' 'T.V' ... 'Bulb' 'Bulb' 'A.C']\n"
     ]
    },
    {
     "data": {
      "text/plain": [
       "0.47449768160741884"
      ]
     },
     "execution_count": 69,
     "metadata": {},
     "output_type": "execute_result"
    }
   ],
   "source": [
    "pred=clf.predict(X_test)\n",
    "print (pred)\n",
    "clf.score(X_test,y_test)"
   ]
  },
  {
   "cell_type": "code",
   "execution_count": null,
   "metadata": {},
   "outputs": [],
   "source": []
  },
  {
   "cell_type": "code",
   "execution_count": 70,
   "metadata": {},
   "outputs": [
    {
     "name": "stdout",
     "output_type": "stream",
     "text": [
      "Accuracy :  47.44976816074188\n",
      "Report : \n",
      "               precision    recall  f1-score   support\n",
      "\n",
      "         A.C       0.21      0.26      0.23       111\n",
      "        Bulb       0.62      0.59      0.61       711\n",
      "       Gaana       0.27      0.23      0.25       109\n",
      "         T.V       0.35      0.38      0.37       363\n",
      "\n",
      "    accuracy                           0.47      1294\n",
      "   macro avg       0.37      0.37      0.36      1294\n",
      "weighted avg       0.48      0.47      0.48      1294\n",
      "\n",
      "F1 Score :  36.44593486501122\n"
     ]
    }
   ],
   "source": [
    "from sklearn.metrics import confusion_matrix\n",
    "from sklearn.metrics import accuracy_score\n",
    "from sklearn.metrics import f1_score\n",
    "from sklearn.metrics import classification_report \n",
    "print (\"Accuracy : \" , accuracy_score(y_test,pred)*100)  \n",
    "print(\"Report : \\n\", classification_report(y_test, pred))\n",
    "print(\"F1 Score : \",f1_score(y_test, pred, average='macro')*100)"
   ]
  },
  {
   "cell_type": "code",
   "execution_count": 71,
   "metadata": {},
   "outputs": [],
   "source": [
    "from sklearn.neighbors import KNeighborsClassifier\n",
    "# clf1=KNeighborsClassifier()\n",
    "# clf1.fit(X_train, y_train)\n",
    "# pred=clf1.predict(X_test)\n",
    "# clf1.score(X_test,y_test)"
   ]
  },
  {
   "cell_type": "code",
   "execution_count": 72,
   "metadata": {},
   "outputs": [
    {
     "name": "stdout",
     "output_type": "stream",
     "text": [
      "Accuracy :  47.44976816074188\n",
      "Report : \n",
      "               precision    recall  f1-score   support\n",
      "\n",
      "         A.C       0.21      0.26      0.23       111\n",
      "        Bulb       0.62      0.59      0.61       711\n",
      "       Gaana       0.27      0.23      0.25       109\n",
      "         T.V       0.35      0.38      0.37       363\n",
      "\n",
      "    accuracy                           0.47      1294\n",
      "   macro avg       0.37      0.37      0.36      1294\n",
      "weighted avg       0.48      0.47      0.48      1294\n",
      "\n",
      "F1 Score :  36.44593486501122\n"
     ]
    }
   ],
   "source": [
    "from sklearn.metrics import confusion_matrix\n",
    "from sklearn.metrics import accuracy_score\n",
    "from sklearn.metrics import f1_score\n",
    "from sklearn.metrics import classification_report \n",
    "print (\"Accuracy : \" , accuracy_score(y_test,pred)*100)  \n",
    "print(\"Report : \\n\", classification_report(y_test, pred))\n",
    "print(\"F1 Score : \",f1_score(y_test, pred, average='macro')*100)"
   ]
  },
  {
   "cell_type": "markdown",
   "metadata": {},
   "source": [
    "# using Random Forest"
   ]
  },
  {
   "cell_type": "code",
   "execution_count": 73,
   "metadata": {},
   "outputs": [
    {
     "name": "stderr",
     "output_type": "stream",
     "text": [
      "/tmp/ipykernel_17567/3546286257.py:11: DataConversionWarning: A column-vector y was passed when a 1d array was expected. Please change the shape of y to (n_samples,), for example using ravel().\n",
      "  rf.fit(X_train, y_train)\n"
     ]
    },
    {
     "name": "stdout",
     "output_type": "stream",
     "text": [
      "Accuracy: 0.5780525502318392\n"
     ]
    }
   ],
   "source": [
    "from sklearn.ensemble import RandomForestClassifier\n",
    "from sklearn.datasets import make_classification\n",
    "from sklearn.model_selection import train_test_split\n",
    "from sklearn.metrics import accuracy_score\n",
    "\n",
    "\n",
    "# Create a Random Forest classifier with 100 trees\n",
    "rf = RandomForestClassifier(n_estimators=100, random_state=42)\n",
    "\n",
    "# Train the classifier on the training data\n",
    "rf.fit(X_train, y_train)\n",
    "\n",
    "# Use the classifier to make predictions on the testing data\n",
    "y_pred = rf.predict(X_test)\n",
    "\n",
    "# Calculate the accuracy of the classifier\n",
    "accuracy = accuracy_score(y_test, y_pred)\n",
    "\n",
    "print(\"Accuracy:\", accuracy)\n"
   ]
  },
  {
   "cell_type": "code",
   "execution_count": 74,
   "metadata": {},
   "outputs": [],
   "source": [
    "import pickle\n",
    "\n",
    "# # Dump the model to a file\n",
    "# with open('RUHA.pkl', 'wb') as f:\n",
    "#     pickle.dump(rf, f)\n"
   ]
  },
  {
   "cell_type": "code",
   "execution_count": 5,
   "metadata": {},
   "outputs": [
    {
     "data": {
      "text/html": [
       "<div>\n",
       "<style scoped>\n",
       "    .dataframe tbody tr th:only-of-type {\n",
       "        vertical-align: middle;\n",
       "    }\n",
       "\n",
       "    .dataframe tbody tr th {\n",
       "        vertical-align: top;\n",
       "    }\n",
       "\n",
       "    .dataframe thead th {\n",
       "        text-align: right;\n",
       "    }\n",
       "</style>\n",
       "<table border=\"1\" class=\"dataframe\">\n",
       "  <thead>\n",
       "    <tr style=\"text-align: right;\">\n",
       "      <th></th>\n",
       "      <th>0</th>\n",
       "      <th>1</th>\n",
       "      <th>2</th>\n",
       "    </tr>\n",
       "  </thead>\n",
       "  <tbody>\n",
       "    <tr>\n",
       "      <th>0</th>\n",
       "      <td>1</td>\n",
       "      <td>2</td>\n",
       "      <td>3</td>\n",
       "    </tr>\n",
       "  </tbody>\n",
       "</table>\n",
       "</div>"
      ],
      "text/plain": [
       "   0  1  2\n",
       "0  1  2  3"
      ]
     },
     "execution_count": 5,
     "metadata": {},
     "output_type": "execute_result"
    }
   ],
   "source": [
    "import pandas as pd\n",
    "df = pd.DataFrame([[1,2,3]])\n",
    "df"
   ]
  },
  {
   "cell_type": "code",
   "execution_count": 7,
   "metadata": {},
   "outputs": [
    {
     "name": "stderr",
     "output_type": "stream",
     "text": [
      "C:\\Users\\A1D\\anaconda3\\lib\\site-packages\\sklearn\\base.py:310: UserWarning: Trying to unpickle estimator DecisionTreeClassifier from version 1.2.1 when using version 0.24.2. This might lead to breaking code or invalid results. Use at your own risk.\n",
      "  warnings.warn(\n",
      "C:\\Users\\A1D\\anaconda3\\lib\\site-packages\\sklearn\\base.py:310: UserWarning: Trying to unpickle estimator RandomForestClassifier from version 1.2.1 when using version 0.24.2. This might lead to breaking code or invalid results. Use at your own risk.\n",
      "  warnings.warn(\n"
     ]
    }
   ],
   "source": [
    "import pickle\n",
    "with open('C:\\\\Users\\\\A1D\\\\Desktop\\\\RUHA VOICE ASSISTANT\\\\FLASK\\\\RUHA.pkl', 'rb') as f:\n",
    "    model = pickle.load(f)"
   ]
  },
  {
   "cell_type": "code",
   "execution_count": 2,
   "metadata": {},
   "outputs": [],
   "source": [
    "my_string = \"This is a sample string that will be saved as a txt file.\"\n",
    "\n",
    "# Open file in write mode\n",
    "with open('my_file.txt', mode='w') as file:\n",
    "    # Write string to file\n",
    "    file.write(my_string)\n",
    "\n",
    "# Close file\n",
    "file.close()"
   ]
  },
  {
   "cell_type": "code",
   "execution_count": 3,
   "metadata": {},
   "outputs": [
    {
     "name": "stderr",
     "output_type": "stream",
     "text": [
      "C:\\Users\\A1D\\anaconda3\\lib\\site-packages\\sklearn\\base.py:310: UserWarning: Trying to unpickle estimator DecisionTreeClassifier from version 1.2.1 when using version 0.24.2. This might lead to breaking code or invalid results. Use at your own risk.\n",
      "  warnings.warn(\n",
      "C:\\Users\\A1D\\anaconda3\\lib\\site-packages\\sklearn\\base.py:310: UserWarning: Trying to unpickle estimator RandomForestClassifier from version 1.2.1 when using version 0.24.2. This might lead to breaking code or invalid results. Use at your own risk.\n",
      "  warnings.warn(\n"
     ]
    }
   ],
   "source": [
    "import pickle\n",
    "with open('C:\\\\Users\\\\A1D\\\\Desktop\\\\RUHA VOICE ASSISTANT\\\\FLASK\\\\RUHA.pkl', 'rb') as f:\n",
    "    model = pickle.load(f)"
   ]
  },
  {
   "cell_type": "code",
   "execution_count": null,
   "metadata": {},
   "outputs": [],
   "source": []
  },
  {
   "cell_type": "code",
   "execution_count": 5,
   "metadata": {},
   "outputs": [],
   "source": [
    "from flask import Flask, render_template, request"
   ]
  },
  {
   "cell_type": "code",
   "execution_count": 7,
   "metadata": {},
   "outputs": [
    {
     "ename": "RuntimeError",
     "evalue": "Working outside of request context.\n\nThis typically means that you attempted to use functionality that needed\nan active HTTP request.  Consult the documentation on testing for\ninformation about how to avoid this problem.",
     "output_type": "error",
     "traceback": [
      "\u001b[1;31m---------------------------------------------------------------------------\u001b[0m",
      "\u001b[1;31mRuntimeError\u001b[0m                              Traceback (most recent call last)",
      "\u001b[1;32m~\\AppData\\Local\\Temp/ipykernel_10744/2387474273.py\u001b[0m in \u001b[0;36m<module>\u001b[1;34m\u001b[0m\n\u001b[1;32m----> 1\u001b[1;33m \u001b[0mrequest\u001b[0m\u001b[1;33m.\u001b[0m\u001b[0mfiles\u001b[0m\u001b[1;33m\u001b[0m\u001b[1;33m\u001b[0m\u001b[0m\n\u001b[0m",
      "\u001b[1;32m~\\anaconda3\\lib\\site-packages\\werkzeug\\local.py\u001b[0m in \u001b[0;36m__get__\u001b[1;34m(self, instance, owner)\u001b[0m\n\u001b[0;32m    430\u001b[0m \u001b[1;33m\u001b[0m\u001b[0m\n\u001b[0;32m    431\u001b[0m         \u001b[1;32mtry\u001b[0m\u001b[1;33m:\u001b[0m\u001b[1;33m\u001b[0m\u001b[1;33m\u001b[0m\u001b[0m\n\u001b[1;32m--> 432\u001b[1;33m             \u001b[0mobj\u001b[0m \u001b[1;33m=\u001b[0m \u001b[0minstance\u001b[0m\u001b[1;33m.\u001b[0m\u001b[0m_get_current_object\u001b[0m\u001b[1;33m(\u001b[0m\u001b[1;33m)\u001b[0m\u001b[1;33m\u001b[0m\u001b[1;33m\u001b[0m\u001b[0m\n\u001b[0m\u001b[0;32m    433\u001b[0m         \u001b[1;32mexcept\u001b[0m \u001b[0mRuntimeError\u001b[0m\u001b[1;33m:\u001b[0m\u001b[1;33m\u001b[0m\u001b[1;33m\u001b[0m\u001b[0m\n\u001b[0;32m    434\u001b[0m             \u001b[1;32mif\u001b[0m \u001b[0mself\u001b[0m\u001b[1;33m.\u001b[0m\u001b[0mfallback\u001b[0m \u001b[1;32mis\u001b[0m \u001b[1;32mNone\u001b[0m\u001b[1;33m:\u001b[0m\u001b[1;33m\u001b[0m\u001b[1;33m\u001b[0m\u001b[0m\n",
      "\u001b[1;32m~\\anaconda3\\lib\\site-packages\\werkzeug\\local.py\u001b[0m in \u001b[0;36m_get_current_object\u001b[1;34m(self)\u001b[0m\n\u001b[0;32m    552\u001b[0m         \"\"\"\n\u001b[0;32m    553\u001b[0m         \u001b[1;32mif\u001b[0m \u001b[1;32mnot\u001b[0m \u001b[0mhasattr\u001b[0m\u001b[1;33m(\u001b[0m\u001b[0mself\u001b[0m\u001b[1;33m.\u001b[0m\u001b[0m__local\u001b[0m\u001b[1;33m,\u001b[0m \u001b[1;34m\"__release_local__\"\u001b[0m\u001b[1;33m)\u001b[0m\u001b[1;33m:\u001b[0m  \u001b[1;31m# type: ignore\u001b[0m\u001b[1;33m\u001b[0m\u001b[1;33m\u001b[0m\u001b[0m\n\u001b[1;32m--> 554\u001b[1;33m             \u001b[1;32mreturn\u001b[0m \u001b[0mself\u001b[0m\u001b[1;33m.\u001b[0m\u001b[0m__local\u001b[0m\u001b[1;33m(\u001b[0m\u001b[1;33m)\u001b[0m  \u001b[1;31m# type: ignore\u001b[0m\u001b[1;33m\u001b[0m\u001b[1;33m\u001b[0m\u001b[0m\n\u001b[0m\u001b[0;32m    555\u001b[0m \u001b[1;33m\u001b[0m\u001b[0m\n\u001b[0;32m    556\u001b[0m         \u001b[1;32mtry\u001b[0m\u001b[1;33m:\u001b[0m\u001b[1;33m\u001b[0m\u001b[1;33m\u001b[0m\u001b[0m\n",
      "\u001b[1;32m~\\anaconda3\\lib\\site-packages\\flask\\globals.py\u001b[0m in \u001b[0;36m_lookup_req_object\u001b[1;34m(name)\u001b[0m\n\u001b[0;32m     36\u001b[0m     \u001b[0mtop\u001b[0m \u001b[1;33m=\u001b[0m \u001b[0m_request_ctx_stack\u001b[0m\u001b[1;33m.\u001b[0m\u001b[0mtop\u001b[0m\u001b[1;33m\u001b[0m\u001b[1;33m\u001b[0m\u001b[0m\n\u001b[0;32m     37\u001b[0m     \u001b[1;32mif\u001b[0m \u001b[0mtop\u001b[0m \u001b[1;32mis\u001b[0m \u001b[1;32mNone\u001b[0m\u001b[1;33m:\u001b[0m\u001b[1;33m\u001b[0m\u001b[1;33m\u001b[0m\u001b[0m\n\u001b[1;32m---> 38\u001b[1;33m         \u001b[1;32mraise\u001b[0m \u001b[0mRuntimeError\u001b[0m\u001b[1;33m(\u001b[0m\u001b[0m_request_ctx_err_msg\u001b[0m\u001b[1;33m)\u001b[0m\u001b[1;33m\u001b[0m\u001b[1;33m\u001b[0m\u001b[0m\n\u001b[0m\u001b[0;32m     39\u001b[0m     \u001b[1;32mreturn\u001b[0m \u001b[0mgetattr\u001b[0m\u001b[1;33m(\u001b[0m\u001b[0mtop\u001b[0m\u001b[1;33m,\u001b[0m \u001b[0mname\u001b[0m\u001b[1;33m)\u001b[0m\u001b[1;33m\u001b[0m\u001b[1;33m\u001b[0m\u001b[0m\n\u001b[0;32m     40\u001b[0m \u001b[1;33m\u001b[0m\u001b[0m\n",
      "\u001b[1;31mRuntimeError\u001b[0m: Working outside of request context.\n\nThis typically means that you attempted to use functionality that needed\nan active HTTP request.  Consult the documentation on testing for\ninformation about how to avoid this problem."
     ]
    }
   ],
   "source": [
    "request."
   ]
  },
  {
   "cell_type": "code",
   "execution_count": null,
   "metadata": {},
   "outputs": [],
   "source": []
  },
  {
   "cell_type": "code",
   "execution_count": null,
   "metadata": {},
   "outputs": [],
   "source": []
  },
  {
   "cell_type": "code",
   "execution_count": null,
   "metadata": {},
   "outputs": [],
   "source": []
  },
  {
   "cell_type": "code",
   "execution_count": null,
   "metadata": {},
   "outputs": [],
   "source": []
  },
  {
   "cell_type": "code",
   "execution_count": null,
   "metadata": {},
   "outputs": [],
   "source": []
  }
 ],
 "metadata": {
  "kernelspec": {
   "display_name": "Python 3 (ipykernel)",
   "language": "python",
   "name": "python3"
  },
  "language_info": {
   "codemirror_mode": {
    "name": "ipython",
    "version": 3
   },
   "file_extension": ".py",
   "mimetype": "text/x-python",
   "name": "python",
   "nbconvert_exporter": "python",
   "pygments_lexer": "ipython3",
   "version": "3.9.7"
  }
 },
 "nbformat": 4,
 "nbformat_minor": 2
}
